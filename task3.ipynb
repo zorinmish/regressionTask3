{
  "nbformat": 4,
  "nbformat_minor": 5,
  "metadata": {
    "kernelspec": {
      "display_name": "Python 3",
      "language": "python",
      "name": "python3"
    },
    "language_info": {
      "codemirror_mode": {
        "name": "ipython",
        "version": 3
      },
      "file_extension": ".py",
      "mimetype": "text/x-python",
      "name": "python",
      "nbconvert_exporter": "python",
      "pygments_lexer": "ipython3",
      "version": "3.8.10"
    },
    "colab": {
      "name": "WorkSpace.ipynb",
      "provenance": [],
      "collapsed_sections": []
    }
  },
  "cells": [
    {
      "cell_type": "markdown",
      "metadata": {
        "id": "205323e4"
      },
      "source": [
        "### Internship dataset"
      ],
      "id": "205323e4"
    },
    {
      "cell_type": "code",
      "metadata": {
        "id": "99ed744e"
      },
      "source": [
        "import pandas as pd\n",
        "import numpy as np\n",
        "import matplotlib.pyplot as plt\n",
        "import sklearn as sk\n",
        "import seaborn as sns\n",
        "from tqdm import tqdm\n",
        "from sklearn import linear_model\n",
        "from sklearn.metrics import mean_squared_error\n",
        "from sklearn.model_selection import train_test_split\n",
        "from sklearn.preprocessing import MinMaxScaler\n",
        "from sklearn.preprocessing import PolynomialFeatures\n",
        "\n",
        "sns.set()"
      ],
      "id": "99ed744e",
      "execution_count": 33,
      "outputs": []
    },
    {
      "cell_type": "code",
      "metadata": {
        "id": "8406cabd"
      },
      "source": [
        "data_train = pd.read_csv('internship_train.csv')\n",
        "data_test = pd.read_csv('internship_hidden_test.csv')"
      ],
      "id": "8406cabd",
      "execution_count": 35,
      "outputs": []
    },
    {
      "cell_type": "code",
      "metadata": {
        "colab": {
          "base_uri": "https://localhost:8080/"
        },
        "id": "589d3c5d",
        "outputId": "39c0a8d0-3db9-4656-945e-0cd2fcb85b16"
      },
      "source": [
        "print(data_train.shape)\n",
        "print(data_test.shape)"
      ],
      "id": "589d3c5d",
      "execution_count": 36,
      "outputs": [
        {
          "output_type": "stream",
          "text": [
            "(90000, 54)\n",
            "(10000, 53)\n"
          ],
          "name": "stdout"
        }
      ]
    },
    {
      "cell_type": "markdown",
      "metadata": {
        "id": "nFJ9avoMOy4c"
      },
      "source": [
        "As we can see, we have 90k samples in train dataset, and 10k in test dataset\n",
        "\n",
        "1 sample have 52 features + 1 target value. Let's look through this features"
      ],
      "id": "nFJ9avoMOy4c"
    },
    {
      "cell_type": "code",
      "metadata": {
        "id": "cedb21cd",
        "colab": {
          "base_uri": "https://localhost:8080/",
          "height": 289
        },
        "outputId": "04f36797-2b7d-46be-a096-1fac4cc87158"
      },
      "source": [
        "sns.heatmap(data_train.corr())"
      ],
      "id": "cedb21cd",
      "execution_count": 37,
      "outputs": [
        {
          "output_type": "execute_result",
          "data": {
            "text/plain": [
              "<matplotlib.axes._subplots.AxesSubplot at 0x7ff6b9af8fd0>"
            ]
          },
          "metadata": {
            "tags": []
          },
          "execution_count": 37
        },
        {
          "output_type": "display_data",
          "data": {
            "image/png": "[encoded data removed]",
            "text/plain": [
              "<Figure size 432x288 with 2 Axes>"
            ]
          },
          "metadata": {
            "tags": []
          }
        }
      ]
    },
    {
      "cell_type": "markdown",
      "metadata": {
        "id": "hvSwRzbQRmGd"
      },
      "source": [
        "So, our data 0-correlated (this is a little bit suspiciously...), just 2 features have 1 correlation value."
      ],
      "id": "hvSwRzbQRmGd"
    },
    {
      "cell_type": "code",
      "metadata": {
        "id": "63ecd764",
        "colab": {
          "base_uri": "https://localhost:8080/",
          "height": 294
        },
        "outputId": "062ce591-5a37-4555-d723-ca903850a6f5"
      },
      "source": [
        "dtemp = data_train.iloc[:,3:10]\n",
        "dtemp.head(8)"
      ],
      "id": "63ecd764",
      "execution_count": 38,
      "outputs": [
        {
          "output_type": "execute_result",
          "data": {
            "text/html": [
              "<div>\n",
              "<style scoped>\n",
              "    .dataframe tbody tr th:only-of-type {\n",
              "        vertical-align: middle;\n",
              "    }\n",
              "\n",
              "    .dataframe tbody tr th {\n",
              "        vertical-align: top;\n",
              "    }\n",
              "\n",
              "    .dataframe thead th {\n",
              "        text-align: right;\n",
              "    }\n",
              "</style>\n",
              "<table border=\"1\" class=\"dataframe\">\n",
              "  <thead>\n",
              "    <tr style=\"text-align: right;\">\n",
              "      <th></th>\n",
              "      <th>3</th>\n",
              "      <th>4</th>\n",
              "      <th>5</th>\n",
              "      <th>6</th>\n",
              "      <th>7</th>\n",
              "      <th>8</th>\n",
              "      <th>9</th>\n",
              "    </tr>\n",
              "  </thead>\n",
              "  <tbody>\n",
              "    <tr>\n",
              "      <th>0</th>\n",
              "      <td>221</td>\n",
              "      <td>382</td>\n",
              "      <td>97</td>\n",
              "      <td>-4.472136</td>\n",
              "      <td>0.107472</td>\n",
              "      <td>0</td>\n",
              "      <td>132</td>\n",
              "    </tr>\n",
              "    <tr>\n",
              "      <th>1</th>\n",
              "      <td>232</td>\n",
              "      <td>1</td>\n",
              "      <td>198</td>\n",
              "      <td>7.810250</td>\n",
              "      <td>0.763713</td>\n",
              "      <td>1</td>\n",
              "      <td>143</td>\n",
              "    </tr>\n",
              "    <tr>\n",
              "      <th>2</th>\n",
              "      <td>111</td>\n",
              "      <td>111</td>\n",
              "      <td>146</td>\n",
              "      <td>8.602325</td>\n",
              "      <td>0.651162</td>\n",
              "      <td>1</td>\n",
              "      <td>430</td>\n",
              "    </tr>\n",
              "    <tr>\n",
              "      <th>3</th>\n",
              "      <td>370</td>\n",
              "      <td>208</td>\n",
              "      <td>158</td>\n",
              "      <td>8.306624</td>\n",
              "      <td>0.424645</td>\n",
              "      <td>1</td>\n",
              "      <td>340</td>\n",
              "    </tr>\n",
              "    <tr>\n",
              "      <th>4</th>\n",
              "      <td>218</td>\n",
              "      <td>317</td>\n",
              "      <td>301</td>\n",
              "      <td>8.124038</td>\n",
              "      <td>0.767304</td>\n",
              "      <td>1</td>\n",
              "      <td>212</td>\n",
              "    </tr>\n",
              "    <tr>\n",
              "      <th>5</th>\n",
              "      <td>350</td>\n",
              "      <td>428</td>\n",
              "      <td>359</td>\n",
              "      <td>5.830952</td>\n",
              "      <td>0.505189</td>\n",
              "      <td>1</td>\n",
              "      <td>73</td>\n",
              "    </tr>\n",
              "    <tr>\n",
              "      <th>6</th>\n",
              "      <td>67</td>\n",
              "      <td>388</td>\n",
              "      <td>326</td>\n",
              "      <td>-1.414214</td>\n",
              "      <td>0.604309</td>\n",
              "      <td>0</td>\n",
              "      <td>258</td>\n",
              "    </tr>\n",
              "    <tr>\n",
              "      <th>7</th>\n",
              "      <td>317</td>\n",
              "      <td>359</td>\n",
              "      <td>116</td>\n",
              "      <td>-6.324555</td>\n",
              "      <td>0.022464</td>\n",
              "      <td>0</td>\n",
              "      <td>485</td>\n",
              "    </tr>\n",
              "  </tbody>\n",
              "</table>\n",
              "</div>"
            ],
            "text/plain": [
              "     3    4    5         6         7  8    9\n",
              "0  221  382   97 -4.472136  0.107472  0  132\n",
              "1  232    1  198  7.810250  0.763713  1  143\n",
              "2  111  111  146  8.602325  0.651162  1  430\n",
              "3  370  208  158  8.306624  0.424645  1  340\n",
              "4  218  317  301  8.124038  0.767304  1  212\n",
              "5  350  428  359  5.830952  0.505189  1   73\n",
              "6   67  388  326 -1.414214  0.604309  0  258\n",
              "7  317  359  116 -6.324555  0.022464  0  485"
            ]
          },
          "metadata": {
            "tags": []
          },
          "execution_count": 38
        }
      ]
    },
    {
      "cell_type": "markdown",
      "metadata": {
        "id": "3rtYq1bxRofF"
      },
      "source": [
        "About 2 correlated features - \"8\" is boolean, it represents sign of feature \"6\", soon I'll drop \"8\""
      ],
      "id": "3rtYq1bxRofF"
    },
    {
      "cell_type": "code",
      "metadata": {
        "id": "bd85f214",
        "colab": {
          "base_uri": "https://localhost:8080/",
          "height": 294
        },
        "outputId": "585e7ec0-02d3-4f41-80e6-81689f5a392b"
      },
      "source": [
        "data_train.iloc[:,4:10].describe()"
      ],
      "id": "bd85f214",
      "execution_count": 39,
      "outputs": [
        {
          "output_type": "execute_result",
          "data": {
            "text/html": [
              "<div>\n",
              "<style scoped>\n",
              "    .dataframe tbody tr th:only-of-type {\n",
              "        vertical-align: middle;\n",
              "    }\n",
              "\n",
              "    .dataframe tbody tr th {\n",
              "        vertical-align: top;\n",
              "    }\n",
              "\n",
              "    .dataframe thead th {\n",
              "        text-align: right;\n",
              "    }\n",
              "</style>\n",
              "<table border=\"1\" class=\"dataframe\">\n",
              "  <thead>\n",
              "    <tr style=\"text-align: right;\">\n",
              "      <th></th>\n",
              "      <th>4</th>\n",
              "      <th>5</th>\n",
              "      <th>6</th>\n",
              "      <th>7</th>\n",
              "      <th>8</th>\n",
              "      <th>9</th>\n",
              "    </tr>\n",
              "  </thead>\n",
              "  <tbody>\n",
              "    <tr>\n",
              "      <th>count</th>\n",
              "      <td>90000.000000</td>\n",
              "      <td>90000.000000</td>\n",
              "      <td>90000.000000</td>\n",
              "      <td>90000.000000</td>\n",
              "      <td>90000.000000</td>\n",
              "      <td>90000.000000</td>\n",
              "    </tr>\n",
              "    <tr>\n",
              "      <th>mean</th>\n",
              "      <td>249.436178</td>\n",
              "      <td>249.656167</td>\n",
              "      <td>-0.011402</td>\n",
              "      <td>0.498548</td>\n",
              "      <td>0.499189</td>\n",
              "      <td>249.842033</td>\n",
              "    </tr>\n",
              "    <tr>\n",
              "      <th>std</th>\n",
              "      <td>143.941581</td>\n",
              "      <td>144.329168</td>\n",
              "      <td>7.038171</td>\n",
              "      <td>0.288682</td>\n",
              "      <td>0.500002</td>\n",
              "      <td>144.612718</td>\n",
              "    </tr>\n",
              "    <tr>\n",
              "      <th>min</th>\n",
              "      <td>0.000000</td>\n",
              "      <td>0.000000</td>\n",
              "      <td>-9.949874</td>\n",
              "      <td>0.000014</td>\n",
              "      <td>0.000000</td>\n",
              "      <td>0.000000</td>\n",
              "    </tr>\n",
              "    <tr>\n",
              "      <th>25%</th>\n",
              "      <td>125.000000</td>\n",
              "      <td>124.000000</td>\n",
              "      <td>-7.071068</td>\n",
              "      <td>0.248932</td>\n",
              "      <td>0.000000</td>\n",
              "      <td>124.000000</td>\n",
              "    </tr>\n",
              "    <tr>\n",
              "      <th>50%</th>\n",
              "      <td>250.000000</td>\n",
              "      <td>250.000000</td>\n",
              "      <td>0.000000</td>\n",
              "      <td>0.497136</td>\n",
              "      <td>0.000000</td>\n",
              "      <td>250.000000</td>\n",
              "    </tr>\n",
              "    <tr>\n",
              "      <th>75%</th>\n",
              "      <td>373.000000</td>\n",
              "      <td>374.000000</td>\n",
              "      <td>7.000000</td>\n",
              "      <td>0.747513</td>\n",
              "      <td>1.000000</td>\n",
              "      <td>376.000000</td>\n",
              "    </tr>\n",
              "    <tr>\n",
              "      <th>max</th>\n",
              "      <td>499.000000</td>\n",
              "      <td>499.000000</td>\n",
              "      <td>9.949874</td>\n",
              "      <td>0.999987</td>\n",
              "      <td>1.000000</td>\n",
              "      <td>499.000000</td>\n",
              "    </tr>\n",
              "  </tbody>\n",
              "</table>\n",
              "</div>"
            ],
            "text/plain": [
              "                  4             5  ...             8             9\n",
              "count  90000.000000  90000.000000  ...  90000.000000  90000.000000\n",
              "mean     249.436178    249.656167  ...      0.499189    249.842033\n",
              "std      143.941581    144.329168  ...      0.500002    144.612718\n",
              "min        0.000000      0.000000  ...      0.000000      0.000000\n",
              "25%      125.000000    124.000000  ...      0.000000    124.000000\n",
              "50%      250.000000    250.000000  ...      0.000000    250.000000\n",
              "75%      373.000000    374.000000  ...      1.000000    376.000000\n",
              "max      499.000000    499.000000  ...      1.000000    499.000000\n",
              "\n",
              "[8 rows x 6 columns]"
            ]
          },
          "metadata": {
            "tags": []
          },
          "execution_count": 39
        }
      ]
    },
    {
      "cell_type": "markdown",
      "metadata": {
        "id": "45v3wx1fRzuT"
      },
      "source": [
        "First columns - \"0\", \"1\"... with int values - are descrite values from 0 to 499. Mean is about 250, and quantiles are strange, so date may be uniformly destributed. For other values, floats from 0 to 15 - destribution seems uniform, too, as you can see below"
      ],
      "id": "45v3wx1fRzuT"
    },
    {
      "cell_type": "code",
      "metadata": {
        "id": "72312019",
        "colab": {
          "base_uri": "https://localhost:8080/",
          "height": 294
        },
        "outputId": "6bd26484-51df-47a8-82e2-fd486aa48e79"
      },
      "source": [
        "data_train.iloc[:,48:54].describe()"
      ],
      "id": "72312019",
      "execution_count": 40,
      "outputs": [
        {
          "output_type": "execute_result",
          "data": {
            "text/html": [
              "<div>\n",
              "<style scoped>\n",
              "    .dataframe tbody tr th:only-of-type {\n",
              "        vertical-align: middle;\n",
              "    }\n",
              "\n",
              "    .dataframe tbody tr th {\n",
              "        vertical-align: top;\n",
              "    }\n",
              "\n",
              "    .dataframe thead th {\n",
              "        text-align: right;\n",
              "    }\n",
              "</style>\n",
              "<table border=\"1\" class=\"dataframe\">\n",
              "  <thead>\n",
              "    <tr style=\"text-align: right;\">\n",
              "      <th></th>\n",
              "      <th>48</th>\n",
              "      <th>49</th>\n",
              "      <th>50</th>\n",
              "      <th>51</th>\n",
              "      <th>52</th>\n",
              "      <th>target</th>\n",
              "    </tr>\n",
              "  </thead>\n",
              "  <tbody>\n",
              "    <tr>\n",
              "      <th>count</th>\n",
              "      <td>90000.000000</td>\n",
              "      <td>90000.000000</td>\n",
              "      <td>90000.000000</td>\n",
              "      <td>90000.000000</td>\n",
              "      <td>90000.000000</td>\n",
              "      <td>90000.000000</td>\n",
              "    </tr>\n",
              "    <tr>\n",
              "      <th>mean</th>\n",
              "      <td>7.490658</td>\n",
              "      <td>7.474578</td>\n",
              "      <td>7.509206</td>\n",
              "      <td>7.487159</td>\n",
              "      <td>7.513316</td>\n",
              "      <td>50.033981</td>\n",
              "    </tr>\n",
              "    <tr>\n",
              "      <th>std</th>\n",
              "      <td>4.332122</td>\n",
              "      <td>4.323035</td>\n",
              "      <td>4.326364</td>\n",
              "      <td>4.324876</td>\n",
              "      <td>4.333080</td>\n",
              "      <td>28.897243</td>\n",
              "    </tr>\n",
              "    <tr>\n",
              "      <th>min</th>\n",
              "      <td>0.000367</td>\n",
              "      <td>0.000014</td>\n",
              "      <td>0.000160</td>\n",
              "      <td>0.000147</td>\n",
              "      <td>0.000125</td>\n",
              "      <td>0.002634</td>\n",
              "    </tr>\n",
              "    <tr>\n",
              "      <th>25%</th>\n",
              "      <td>3.739358</td>\n",
              "      <td>3.715298</td>\n",
              "      <td>3.773381</td>\n",
              "      <td>3.743536</td>\n",
              "      <td>3.776322</td>\n",
              "      <td>25.091903</td>\n",
              "    </tr>\n",
              "    <tr>\n",
              "      <th>50%</th>\n",
              "      <td>7.494167</td>\n",
              "      <td>7.477270</td>\n",
              "      <td>7.512575</td>\n",
              "      <td>7.476564</td>\n",
              "      <td>7.506812</td>\n",
              "      <td>50.030705</td>\n",
              "    </tr>\n",
              "    <tr>\n",
              "      <th>75%</th>\n",
              "      <td>11.239232</td>\n",
              "      <td>11.210070</td>\n",
              "      <td>11.268156</td>\n",
              "      <td>11.234414</td>\n",
              "      <td>11.277835</td>\n",
              "      <td>75.059454</td>\n",
              "    </tr>\n",
              "    <tr>\n",
              "      <th>max</th>\n",
              "      <td>14.999869</td>\n",
              "      <td>14.999928</td>\n",
              "      <td>14.999948</td>\n",
              "      <td>14.999364</td>\n",
              "      <td>14.999775</td>\n",
              "      <td>99.999482</td>\n",
              "    </tr>\n",
              "  </tbody>\n",
              "</table>\n",
              "</div>"
            ],
            "text/plain": [
              "                 48            49  ...            52        target\n",
              "count  90000.000000  90000.000000  ...  90000.000000  90000.000000\n",
              "mean       7.490658      7.474578  ...      7.513316     50.033981\n",
              "std        4.332122      4.323035  ...      4.333080     28.897243\n",
              "min        0.000367      0.000014  ...      0.000125      0.002634\n",
              "25%        3.739358      3.715298  ...      3.776322     25.091903\n",
              "50%        7.494167      7.477270  ...      7.506812     50.030705\n",
              "75%       11.239232     11.210070  ...     11.277835     75.059454\n",
              "max       14.999869     14.999928  ...     14.999775     99.999482\n",
              "\n",
              "[8 rows x 6 columns]"
            ]
          },
          "metadata": {
            "tags": []
          },
          "execution_count": 40
        }
      ]
    },
    {
      "cell_type": "code",
      "metadata": {
        "id": "00c36651",
        "colab": {
          "base_uri": "https://localhost:8080/",
          "height": 285
        },
        "outputId": "b18e7636-8987-469a-cf07-85dd37ee65b1"
      },
      "source": [
        "plt.plot(data_train['1'].value_counts().sort_index())\n",
        "#In the int-columns we meet each value from 140 to 220 times, and 180 in avarage, it's seems regularity with some noise"
      ],
      "id": "00c36651",
      "execution_count": 41,
      "outputs": [
        {
          "output_type": "execute_result",
          "data": {
            "text/plain": [
              "[<matplotlib.lines.Line2D at 0x7ff6b9430c50>]"
            ]
          },
          "metadata": {
            "tags": []
          },
          "execution_count": 41
        },
        {
          "output_type": "display_data",
          "data": {
            "image/png": "[encoded data removed]",
            "text/plain": [
              "<Figure size 432x288 with 1 Axes>"
            ]
          },
          "metadata": {
            "tags": []
          }
        }
      ]
    },
    {
      "cell_type": "code",
      "metadata": {
        "id": "2c686bd8",
        "colab": {
          "base_uri": "https://localhost:8080/",
          "height": 372
        },
        "outputId": "10bad932-9630-4b60-b0bd-073b98441faf"
      },
      "source": [
        "plt.hist(data_train['48'])\n",
        "#Float-columns are follow сontinuous uniform distribution"
      ],
      "id": "2c686bd8",
      "execution_count": 42,
      "outputs": [
        {
          "output_type": "execute_result",
          "data": {
            "text/plain": [
              "(array([9088., 9056., 8948., 8912., 9036., 9025., 8902., 9106., 8965.,\n",
              "        8962.]),\n",
              " array([3.67375445e-04, 1.50031758e+00, 3.00026778e+00, 4.50021798e+00,\n",
              "        6.00016818e+00, 7.50011838e+00, 9.00006858e+00, 1.05000188e+01,\n",
              "        1.19999690e+01, 1.34999192e+01, 1.49998694e+01]),\n",
              " <a list of 10 Patch objects>)"
            ]
          },
          "metadata": {
            "tags": []
          },
          "execution_count": 42
        },
        {
          "output_type": "display_data",
          "data": {
            "image/png": "[encoded data removed]",
            "text/plain": [
              "<Figure size 432x288 with 1 Axes>"
            ]
          },
          "metadata": {
            "tags": []
          }
        }
      ]
    },
    {
      "cell_type": "code",
      "metadata": {
        "id": "c960dca8",
        "colab": {
          "base_uri": "https://localhost:8080/",
          "height": 372
        },
        "outputId": "fd1ca1ae-4136-4a76-8ad2-2941277a68a1"
      },
      "source": [
        "plt.hist(data_train['target'])\n",
        "#target value seems sсaled like 2nd  type of columns, but in range from 0 to 100"
      ],
      "id": "c960dca8",
      "execution_count": 43,
      "outputs": [
        {
          "output_type": "execute_result",
          "data": {
            "text/plain": [
              "(array([9084., 8948., 8967., 8944., 9033., 8855., 9011., 9197., 8967.,\n",
              "        8994.]),\n",
              " array([2.63446314e-03, 1.00023192e+01, 2.00020040e+01, 3.00016888e+01,\n",
              "        4.00013736e+01, 5.00010584e+01, 6.00007432e+01, 7.00004279e+01,\n",
              "        8.00001127e+01, 8.99997975e+01, 9.99994823e+01]),\n",
              " <a list of 10 Patch objects>)"
            ]
          },
          "metadata": {
            "tags": []
          },
          "execution_count": 43
        },
        {
          "output_type": "display_data",
          "data": {
            "image/png": "[encoded data removed]",
            "text/plain": [
              "<Figure size 432x288 with 1 Axes>"
            ]
          },
          "metadata": {
            "tags": []
          }
        }
      ]
    },
    {
      "cell_type": "markdown",
      "metadata": {
        "id": "pL9EEvOCTmEU"
      },
      "source": [
        "The conclusion suggests itself that the data is synthetic, and their distributions are artificially biased.\n",
        "\n",
        "Perhaps the data has been scaled based on its value in each column - if the value is the minimum it will be around 0, if its position is 45000 it will be 7.5, etc.\n",
        "\n",
        "Therefore, the plan for solving the problem is to partially restore the scaling, for example, add polynomial features.\n",
        "After that, you can run linear regression and get a model that predicts the target value"
      ],
      "id": "pL9EEvOCTmEU"
    },
    {
      "cell_type": "code",
      "metadata": {
        "colab": {
          "base_uri": "https://localhost:8080/"
        },
        "id": "b8ad4730",
        "outputId": "744b9a45-b725-4a85-a5d0-541df50ee89e"
      },
      "source": [
        "y = data_train[\"target\"]\n",
        "droped = [\"target\", \"8\"]\n",
        "X = data_train.drop(droped, axis = 1)\n",
        "X.shape"
      ],
      "id": "b8ad4730",
      "execution_count": 44,
      "outputs": [
        {
          "output_type": "execute_result",
          "data": {
            "text/plain": [
              "(90000, 52)"
            ]
          },
          "metadata": {
            "tags": []
          },
          "execution_count": 44
        }
      ]
    },
    {
      "cell_type": "code",
      "metadata": {
        "colab": {
          "base_uri": "https://localhost:8080/"
        },
        "id": "2102453e",
        "outputId": "407b639e-5288-44a5-e10f-80d498d1b9f2"
      },
      "source": [
        "polynomial_features = PolynomialFeatures(degree = 2, include_bias = True)\n",
        "X_a = polynomial_features.fit_transform(X) # adding polinomial features\n",
        "X_a.shape # now we have 1400+ features instead of 50"
      ],
      "id": "2102453e",
      "execution_count": 45,
      "outputs": [
        {
          "output_type": "execute_result",
          "data": {
            "text/plain": [
              "(90000, 1431)"
            ]
          },
          "metadata": {
            "tags": []
          },
          "execution_count": 45
        }
      ]
    },
    {
      "cell_type": "markdown",
      "metadata": {
        "id": "f0IIxC6ZVwfr"
      },
      "source": [
        "Let's split our dataset on train and validation sets. Our model will be trained on X_train, and evaluated on X_val. And after that we will make a prediction on test dataset, with hidden target\n",
        "\n",
        "By the way, we don't need scaling in this task, because the data is scaled for us at the initial stage."
      ],
      "id": "f0IIxC6ZVwfr"
    },
    {
      "cell_type": "code",
      "metadata": {
        "id": "de80b469",
        "colab": {
          "base_uri": "https://localhost:8080/"
        },
        "outputId": "6074cd76-2690-466e-acd5-9c281d4227dd"
      },
      "source": [
        "X_train,X_val, y_train, y_val = train_test_split(X_a,y, test_size = 0.1)\n",
        "X_train.shape "
      ],
      "id": "de80b469",
      "execution_count": 46,
      "outputs": [
        {
          "output_type": "execute_result",
          "data": {
            "text/plain": [
              "(81000, 1431)"
            ]
          },
          "metadata": {
            "tags": []
          },
          "execution_count": 46
        }
      ]
    },
    {
      "cell_type": "code",
      "metadata": {
        "colab": {
          "base_uri": "https://localhost:8080/"
        },
        "id": "5afef7aa",
        "outputId": "3467788e-6b31-49ad-d525-60ec89a9828b"
      },
      "source": [
        "reg = linear_model.LinearRegression() \n",
        "reg.fit(X_train, y_train) # here we need 1 Gb for allocation data in memory \n",
        "# There is such an amount of memory in my computer, but to access to it was necessary to use Google Collab\n",
        "# This computation takes about 30 sec on Intel Core i5\n",
        "\n",
        "w = reg.coef_  # weights of features\n",
        "x0 = reg.intercept_ # bias parameter\n",
        "print(w[0:10])\n",
        "print(x0)"
      ],
      "id": "5afef7aa",
      "execution_count": 47,
      "outputs": [
        {
          "output_type": "stream",
          "text": [
            "[-4.60648325e-04 -3.50370964e-13 -1.25726469e-13 -3.22202958e-13\n",
            " -1.41497708e-13 -1.28253528e-13 -2.56624637e-13  5.49582190e-13\n",
            "  1.00000000e+00  1.33503451e-13]\n",
            "0.000460648284843046\n"
          ],
          "name": "stdout"
        }
      ]
    },
    {
      "cell_type": "markdown",
      "metadata": {
        "id": "9XSZD0YwcQeI"
      },
      "source": [
        "For prediction we need preprocess our data(drop some columns, add polinomial features) then multiply it with vectors of weigths, and add x0 to result. \n",
        "\n",
        "Let's see RMSE of our model on train and validation set"
      ],
      "id": "9XSZD0YwcQeI"
    },
    {
      "cell_type": "code",
      "metadata": {
        "colab": {
          "base_uri": "https://localhost:8080/"
        },
        "id": "9392b71c",
        "outputId": "db6439a3-7e8c-4021-f3e8-ec72787401c0"
      },
      "source": [
        "error_train = mean_squared_error(y_true = y_train, y_pred = X_train.dot(w)+reg.intercept_)\n",
        "error_val = mean_squared_error(y_true = y_val, y_pred = X_val.dot(w)+reg.intercept_)\n",
        "print(\"Train set error: \", error_train)\n",
        "print(\"Validation set error: \", error_val)"
      ],
      "id": "9392b71c",
      "execution_count": 48,
      "outputs": [
        {
          "output_type": "stream",
          "text": [
            "Train set error:  3.6734841538405823e-20\n",
            "Validation set error:  3.7252299287316084e-20\n"
          ],
          "name": "stdout"
        }
      ]
    },
    {
      "cell_type": "markdown",
      "metadata": {
        "id": "y1A5QWfndYsY"
      },
      "source": [
        "Wow! Train error is incredibly small! It may be a overfitting, but validation error is as small, as train error!\n",
        "\n",
        "So, probably, our model just got the point!\n",
        "\n",
        "Now we can make prediction on our test set with hidden target"
      ],
      "id": "y1A5QWfndYsY"
    },
    {
      "cell_type": "code",
      "metadata": {
        "id": "ul117LK2eec7"
      },
      "source": [
        "def preprocessing(X):\n",
        "  X = X.drop(\"8\", axis = 1)\n",
        "  polynomial_features = PolynomialFeatures(degree = 2, include_bias = True)\n",
        "  X = polynomial_features.fit_transform(X)\n",
        "  return X\n",
        "\n",
        "def predict(X, w, x0):\n",
        "  return X.dot(w)+x0\n",
        "\n",
        "def loss(y_true, y_pred):\n",
        "  return mean_squared_error(y_true = y_true, y_pred = y_pred)"
      ],
      "id": "ul117LK2eec7",
      "execution_count": 49,
      "outputs": []
    },
    {
      "cell_type": "code",
      "metadata": {
        "colab": {
          "base_uri": "https://localhost:8080/"
        },
        "id": "MtOb2gqWfv9B",
        "outputId": "25a135dd-e946-47f6-f367-3a4a8d98cd39"
      },
      "source": [
        "X_test = preprocessing(data_test)\n",
        "y_test = predict(X_test, w, x0)\n",
        "print(y_test[0:10])"
      ],
      "id": "MtOb2gqWfv9B",
      "execution_count": 51,
      "outputs": [
        {
          "output_type": "stream",
          "text": [
            "[11.21876001 79.70022802  7.49455605 38.5111167  64.75641595 38.49535942\n",
            " 94.87079841 97.44690755 29.62908153 26.2770368 ]\n"
          ],
          "name": "stdout"
        }
      ]
    },
    {
      "cell_type": "markdown",
      "metadata": {
        "id": "b90aboymhM07"
      },
      "source": [
        "### So, we got compured weigths and prediction for our test set.\n",
        "\n",
        "Results are really good, model predict data with high accuracy, so overfitting on synthetic data does not appear, so I don't use cross validation and other methods to avoid it"
      ],
      "id": "b90aboymhM07"
    },
    {
      "cell_type": "code",
      "metadata": {
        "id": "6jdfSOjbhL3Q"
      },
      "source": [
        ""
      ],
      "id": "6jdfSOjbhL3Q",
      "execution_count": null,
      "outputs": []
    }
  ]
}